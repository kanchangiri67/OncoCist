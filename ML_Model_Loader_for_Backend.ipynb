{
  "nbformat": 4,
  "nbformat_minor": 0,
  "metadata": {
    "colab": {
      "provenance": [],
      "authorship_tag": "ABX9TyOyl9fW/+55xpSRK8azF+zB",
      "include_colab_link": true
    },
    "kernelspec": {
      "name": "python3",
      "display_name": "Python 3"
    },
    "language_info": {
      "name": "python"
    }
  },
  "cells": [
    {
      "cell_type": "markdown",
      "metadata": {
        "id": "view-in-github",
        "colab_type": "text"
      },
      "source": [
        "<a href=\"https://colab.research.google.com/github/kanchangiri67/OncoCist/blob/main/ML_Model_Loader_for_Backend.ipynb\" target=\"_parent\"><img src=\"https://colab.research.google.com/assets/colab-badge.svg\" alt=\"Open In Colab\"/></a>"
      ]
    },
    {
      "cell_type": "code",
      "execution_count": null,
      "metadata": {
        "id": "KxAeR8ewWQO1"
      },
      "outputs": [],
      "source": [
        "pip install gradio --quiet"
      ]
    },
    {
      "cell_type": "markdown",
      "source": [
        "# Loss functions"
      ],
      "metadata": {
        "id": "Etfg1dhAoH4a"
      }
    },
    {
      "cell_type": "code",
      "source": [
        "import tensorflow as tf\n",
        "\n",
        "@tf.keras.utils.register_keras_serializable()\n",
        "def iou_metric(y_true, y_pred):\n",
        "    y_pred = tf.cast(y_pred > 0.5, tf.float32)\n",
        "    y_true = tf.cast(y_true, tf.float32)\n",
        "    intersection = tf.reduce_sum(y_true * y_pred)\n",
        "    union = tf.reduce_sum(y_true) + tf.reduce_sum(y_pred) - intersection\n",
        "    return intersection / (union + 1e-7)\n",
        "\n",
        "@tf.keras.utils.register_keras_serializable()\n",
        "def dice_loss(y_true, y_pred):\n",
        "    y_pred = tf.cast(y_pred > 0.5, tf.float32)\n",
        "    y_true = tf.cast(y_true, tf.float32)\n",
        "    intersection = tf.reduce_sum(y_true * y_pred)\n",
        "    return 1 - (2 * intersection + 1e-7) / (tf.reduce_sum(y_true) + tf.reduce_sum(y_pred) + 1e-7)\n",
        "\n",
        "@tf.keras.utils.register_keras_serializable()\n",
        "def combined_loss(y_true, y_pred):\n",
        "    bce = tf.keras.losses.binary_crossentropy(y_true, y_pred)\n",
        "    return bce + dice_loss(y_true, y_pred)"
      ],
      "metadata": {
        "id": "cQZU8paJoOFf"
      },
      "execution_count": null,
      "outputs": []
    },
    {
      "cell_type": "markdown",
      "source": [
        "# ImagePreprocessor Class"
      ],
      "metadata": {
        "id": "hE3e3SIzlnyS"
      }
    },
    {
      "cell_type": "code",
      "source": [
        "class ImagePreprocessor:\n",
        "    @staticmethod\n",
        "    def normalize(image):\n",
        "        import numpy as np\n",
        "        image = np.float64(image)\n",
        "        min_val, max_val = np.min(image), np.max(image)\n",
        "        if max_val == min_val:\n",
        "            return np.zeros_like(image, dtype=np.uint8)\n",
        "        return np.uint8(255 * (image - min_val) / (max_val - min_val))"
      ],
      "metadata": {
        "id": "fTOEPhKfltbJ"
      },
      "execution_count": null,
      "outputs": []
    },
    {
      "cell_type": "code",
      "source": [
        "import gradio as gr\n",
        "import numpy as np\n",
        "import cv2\n",
        "import tensorflow as tf\n",
        "\n",
        "# Load U-Net Model\n",
        "unet_model = tf.keras.models.load_model(\n",
        "    \"/content/unet_model.keras\",\n",
        "    custom_objects={\n",
        "        \"iou_metric\": iou_metric,\n",
        "        \"dice_loss\": dice_loss,\n",
        "        \"combined_loss\": combined_loss\n",
        "    }\n",
        ")\n",
        "\n",
        "# Load CNN Classifier\n",
        "cnn_model = tf.keras.models.load_model(\"/content/cnn_model.keras\")\n",
        "tumor_map = {0: \"Meningioma\", 1: \"Glioma\", 2: \"Pituitary Tumor\"}\n",
        "\n",
        "# Image inference function\n",
        "def analyze_mri(image):\n",
        "    # Convert to grayscale if needed\n",
        "    if len(image.shape) == 3:\n",
        "        image = cv2.cvtColor(image, cv2.COLOR_RGB2GRAY)\n",
        "\n",
        "    # Resize for both models\n",
        "    resized = cv2.resize(image, (512, 512))\n",
        "    normalized = ImagePreprocessor.normalize(resized)\n",
        "\n",
        "    # Predict segmentation\n",
        "    seg_input = normalized.reshape(1, 512, 512, 1)\n",
        "    pred_mask = unet_model.predict(seg_input)[0]\n",
        "    binary_mask = (pred_mask > 0.5).astype(np.uint8).squeeze()\n",
        "\n",
        "    # Create overlay\n",
        "    overlay = np.stack([normalized]*3, axis=-1)\n",
        "    overlay[binary_mask == 1] = [255, 0, 0]  # Red\n",
        "\n",
        "    # Predict tumor type\n",
        "    class_input = normalized.reshape(1, 512, 512, 1)\n",
        "    pred_class = np.argmax(cnn_model.predict(class_input), axis=1)[0]\n",
        "    tumor_type = tumor_map[pred_class]\n",
        "\n",
        "    return overlay, tumor_type\n",
        "\n",
        "# Gradio interface\n",
        "gr.Interface(\n",
        "    fn=analyze_mri,\n",
        "    inputs=gr.Image(label=\"Upload Brain MRI\", type=\"numpy\"),\n",
        "    outputs=[\n",
        "        gr.Image(label=\"Tumor Mask Overlay\", type=\"numpy\"),\n",
        "        gr.Label(label=\"Predicted Tumor Type\")\n",
        "    ],\n",
        "    title=\"Brain Tumor Analysis\",\n",
        "    description=\"Upload a brain MRI to see the predicted tumor segmentation (U-Net) and classification (CNN).\"\n",
        ").launch(debug=True)"
      ],
      "metadata": {
        "colab": {
          "base_uri": "https://localhost:8080/",
          "height": 707
        },
        "id": "divohrILYF3m",
        "outputId": "7deffb7e-248e-4cc4-8745-2aceef6a4e35"
      },
      "execution_count": null,
      "outputs": [
        {
          "output_type": "stream",
          "name": "stdout",
          "text": [
            "Running Gradio in a Colab notebook requires sharing enabled. Automatically setting `share=True` (you can turn this off by setting `share=False` in `launch()` explicitly).\n",
            "\n",
            "Colab notebook detected. This cell will run indefinitely so that you can see errors and logs. To turn off, set debug=False in launch().\n",
            "* Running on public URL: https://39fbe44fb559a628b5.gradio.live\n",
            "\n",
            "This share link expires in 72 hours. For free permanent hosting and GPU upgrades, run `gradio deploy` from the terminal in the working directory to deploy to Hugging Face Spaces (https://huggingface.co/spaces)\n"
          ]
        },
        {
          "output_type": "display_data",
          "data": {
            "text/plain": [
              "<IPython.core.display.HTML object>"
            ],
            "text/html": [
              "<div><iframe src=\"https://39fbe44fb559a628b5.gradio.live\" width=\"100%\" height=\"500\" allow=\"autoplay; camera; microphone; clipboard-read; clipboard-write;\" frameborder=\"0\" allowfullscreen></iframe></div>"
            ]
          },
          "metadata": {}
        },
        {
          "output_type": "stream",
          "name": "stdout",
          "text": [
            "\u001b[1m1/1\u001b[0m \u001b[32m━━━━━━━━━━━━━━━━━━━━\u001b[0m\u001b[37m\u001b[0m \u001b[1m13s\u001b[0m 13s/step\n",
            "\u001b[1m1/1\u001b[0m \u001b[32m━━━━━━━━━━━━━━━━━━━━\u001b[0m\u001b[37m\u001b[0m \u001b[1m1s\u001b[0m 1s/step\n",
            "Keyboard interruption in main thread... closing server.\n",
            "Killing tunnel 127.0.0.1:7860 <> https://39fbe44fb559a628b5.gradio.live\n"
          ]
        },
        {
          "output_type": "execute_result",
          "data": {
            "text/plain": []
          },
          "metadata": {},
          "execution_count": 10
        }
      ]
    }
  ]
}